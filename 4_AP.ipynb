{
 "cells": [
  {
   "cell_type": "markdown",
   "metadata": {},
   "source": [
    "# Кольца Артем М.19-04\n",
    "\n",
    "### Кластеризация графа. Affinity propagation\n",
    "\n",
    "### Задание №4"
   ]
  },
  {
   "cell_type": "code",
   "execution_count": 1,
   "metadata": {},
   "outputs": [],
   "source": [
    "import numpy as np\n",
    "import matplotlib.pyplot as plt\n",
    "from random import shuffle\n",
    "%matplotlib inline"
   ]
  },
  {
   "cell_type": "code",
   "execution_count": 2,
   "metadata": {},
   "outputs": [],
   "source": [
    "NODES = 196591 # количество пользователей\n",
    "EDGES = 950327 # связи между пользователями\n",
    "CHECK_INS = 6442890 # всего чекинов"
   ]
  },
  {
   "cell_type": "code",
   "execution_count": 3,
   "metadata": {},
   "outputs": [],
   "source": [
    "with open('Gowalla_edges.txt', 'r') as f:\n",
    "    all_strings = f.readlines()\n",
    "edges_list = [] # список всех связей\n",
    "nodes_list = set() # множество всех пользователей\n",
    "similarity_array = [] # массив similarity (без self-similarity)\n",
    "# итерируемся по всем строкам файла\n",
    "for line in all_strings:\n",
    "    user_1, user_2 = line.split()\n",
    "    # заполняем список всех связей в формате: (кто дружит, с кем дружит)\n",
    "    edges_list.append((int(user_1), int(user_2)))\n",
    "    nodes_list.add((int(user_1)))\n",
    "    # каждую дружбу отмечаем 1 в similarity\n",
    "    similarity_array.append(1)\n",
    "# дополним список связей связями \"сам к себе\"\n",
    "for node in nodes_list:\n",
    "    edges_list.append((node, node))\n",
    "\n",
    "similarity_array = np.array(similarity_array, dtype=np.int8)\n",
    "all_strings = None"
   ]
  },
  {
   "cell_type": "code",
   "execution_count": 4,
   "metadata": {},
   "outputs": [
    {
     "data": {
      "text/plain": [
       "196591"
      ]
     },
     "execution_count": 4,
     "metadata": {},
     "output_type": "execute_result"
    }
   ],
   "source": [
    "len(nodes_list)"
   ]
  },
  {
   "cell_type": "code",
   "execution_count": 5,
   "metadata": {},
   "outputs": [
    {
     "data": {
      "text/plain": [
       "1900654"
      ]
     },
     "execution_count": 5,
     "metadata": {},
     "output_type": "execute_result"
    }
   ],
   "source": [
    "len(similarity_array)"
   ]
  },
  {
   "cell_type": "code",
   "execution_count": 6,
   "metadata": {
    "scrolled": false
   },
   "outputs": [
    {
     "data": {
      "text/plain": [
       "(2097245, 2)"
      ]
     },
     "execution_count": 6,
     "metadata": {},
     "output_type": "execute_result"
    }
   ],
   "source": [
    "np.shape(edges_list)"
   ]
  },
  {
   "cell_type": "code",
   "execution_count": 7,
   "metadata": {},
   "outputs": [],
   "source": [
    "def update_responsibility(S, A, edges):\n",
    "    # поэлементное сложение массивов similarity и availability\n",
    "    #s(i,j) + a(i,j)\n",
    "    V = S + A\n",
    "    \n",
    "    max_1 = np.repeat(-np.inf, NODES)\n",
    "    max_2 = np.repeat(-np.inf, NODES)\n",
    "    max_1_user_2 = np.repeat(np.inf, NODES)\n",
    "\n",
    "    # итерируемся по списку связей\n",
    "    for idx, (user_1, user_2) in enumerate(edges):\n",
    "        # для каждого пользователя найдем 2 наибольших значения суммы V\n",
    "        if max_1[user_1] < V[idx]:\n",
    "            max_2[user_1] = max_1[user_1]\n",
    "            max_1[user_1] = V[idx]\n",
    "            # запоминаем второго пользователя с которым у пользователя 1 максимальное V\n",
    "            max_1_user_2[user_1] = user_2\n",
    "        elif max_2[user_1] < V[idx]:\n",
    "            max_2[user_1] = V[idx]\n",
    "    # обновляем  массив responsibility\n",
    "    R = S.copy()\n",
    "    for idx, (user_1, user_2) in enumerate(edges):\n",
    "        if max_1_user_2[user_1] == user_2:\n",
    "            R[idx] -= max_2[user_1]\n",
    "        else:\n",
    "            R[idx] -= max_1[user_1]\n",
    "    \n",
    "    return R"
   ]
  },
  {
   "cell_type": "code",
   "execution_count": 8,
   "metadata": {},
   "outputs": [],
   "source": [
    "def update_availability(A, R, edges):\n",
    "    # сохраняем только положительные r, self-r не изменяем\n",
    "    R_copy = R.copy()\n",
    "    # max между 0 и значением responsibility 'ответственности'\n",
    "    i = 0\n",
    "    while i < EDGES * 2:\n",
    "        if R_copy[i] < 0:\n",
    "            R_copy[i] = 0\n",
    "        i += 1\n",
    "    # для каждого пользователя складываем положительные r от других пользователей\n",
    "    positive_r = np.repeat(0, NODES)\n",
    "    \n",
    "    for idx, (user_1, user_2) in enumerate(edges):\n",
    "        positive_r[user_2] += R_copy[idx]\n",
    "    # обновляем availability\n",
    "    for idx, (user_1, user_2) in enumerate(edges):\n",
    "        A[idx] = positive_r[user_2] - R_copy[idx]\n",
    "        \n",
    "    # вычисление min\n",
    "    i = 0\n",
    "    while i < EDGES * 2:\n",
    "        A[i] = np.min([0, A[i]])\n",
    "        i += 1\n",
    "    \n",
    "    return A"
   ]
  },
  {
   "cell_type": "code",
   "execution_count": 9,
   "metadata": {},
   "outputs": [],
   "source": [
    "def get_exemplars(A, R, edges, transitivity_param):\n",
    "    temp = np.repeat(-np.inf, NODES)\n",
    "    exemplars_dict = dict()\n",
    "    # поэлементное сложение массивов availability и responsibility\n",
    "    value_sum = A + R\n",
    "    # для каждого пользователя 1 определяем пользователя 2 c максимальным value_sum\n",
    "    for idx, (user_1, user_2) in enumerate(edges):\n",
    "        #находим максимальное значение\n",
    "        #если value_sum для этого пользователя больше, чем сохраненное максимальное значение, то обновляем\n",
    "        if value_sum[idx] > temp[user_1]:\n",
    "            temp[user_1] = value_sum[idx]\n",
    "            exemplars_dict[user_1] = user_2\n",
    "    \n",
    "    for i in range(transitivity_param):        \n",
    "        for exempl_a in exemplars_dict.keys(): \n",
    "            exempl_b = exemplars_dict[exempl_a]\n",
    "            if exemplars_dict[exempl_b] != exempl_b:\n",
    "                exempl_с = exemplars_dict[exempl_b]\n",
    "                exemplars_dict[exempl_a] = exempl_с\n",
    "                \n",
    "    return exemplars_dict"
   ]
  },
  {
   "cell_type": "code",
   "execution_count": 10,
   "metadata": {},
   "outputs": [],
   "source": [
    "def affinity_propagation(s, edges, num_iter, self_similarity):\n",
    "    #создаем массив self-similarity\n",
    "    self_s_array = np.repeat(self_similarity, NODES)\n",
    "    #создем полный массив similarity (значения self-similarity будут в конце массива)\n",
    "    similarity = np.append(s, self_s_array)\n",
    "    \n",
    "    # инициализируем нулями массивы availability и responsibility\n",
    "    responsibility_array = np.repeat(0, similarity.shape[0])\n",
    "    availability_array = np.repeat(0, similarity.shape[0])\n",
    "\n",
    "    for i in range(num_iter):\n",
    "        # обновляем responsibility\n",
    "        responsibility_array = update_responsibility(similarity, availability_array, edges)\n",
    "        # обновляем availability\n",
    "        availability_array = update_availability(availability_array, responsibility_array, edges)\n",
    "        print(i)\n",
    "    #Получаем экземпляр кластера для каждого пользователя и производим транзитивную свертку\n",
    "    exemplars = get_exemplars(availability_array, responsibility_array, edges_list, transitivity_param = 5)\n",
    "    \n",
    "    return exemplars"
   ]
  },
  {
   "cell_type": "code",
   "execution_count": 11,
   "metadata": {
    "scrolled": false
   },
   "outputs": [
    {
     "name": "stdout",
     "output_type": "stream",
     "text": [
      "0\n",
      "1\n",
      "2\n",
      "3\n",
      "4\n",
      "5\n",
      "6\n",
      "7\n",
      "8\n",
      "9\n"
     ]
    }
   ],
   "source": [
    "my_exemplars = affinity_propagation(similarity_array, edges_list, num_iter = 10, self_similarity = -1.5)"
   ]
  },
  {
   "cell_type": "code",
   "execution_count": 12,
   "metadata": {},
   "outputs": [
    {
     "name": "stdout",
     "output_type": "stream",
     "text": [
      "Количество кластеров: 17955\n"
     ]
    }
   ],
   "source": [
    "#Количество кластеров\n",
    "clusters = sorted(list(set(my_exemplars.values())))\n",
    "print(\"Количество кластеров:\", len(clusters))"
   ]
  },
  {
   "cell_type": "code",
   "execution_count": 13,
   "metadata": {},
   "outputs": [
    {
     "name": "stdout",
     "output_type": "stream",
     "text": [
      "Максимальный размер кластера: 16100\n",
      "Минимальный размер кластера: 1\n"
     ]
    }
   ],
   "source": [
    "#Визуализация размеров кластера\n",
    "cluster_size = dict()\n",
    "for exemplar in my_exemplars.values():\n",
    "    if exemplar not in cluster_size:\n",
    "        cluster_size[exemplar] = 1\n",
    "    else:\n",
    "        cluster_size[exemplar] += 1\n",
    "print(\"Максимальный размер кластера:\", max(cluster_size.values()))\n",
    "print(\"Минимальный размер кластера:\", min(cluster_size.values()))"
   ]
  },
  {
   "cell_type": "code",
   "execution_count": 14,
   "metadata": {
    "scrolled": true
   },
   "outputs": [
    {
     "data": {
      "image/png": "[encoded data removed]",
      "text/plain": [
       "<Figure size 432x288 with 1 Axes>"
      ]
     },
     "metadata": {
      "needs_background": "light"
     },
     "output_type": "display_data"
    }
   ],
   "source": [
    "#Визуализация минимальных размеров кластеров\n",
    "plt.hist(cluster_size.values(),bins= range(1,12), range=(0, 11))\n",
    "plt.xlabel(\"Размер кластеров\")\n",
    "plt.ylabel(\"Количество кластеров\")\n",
    "plt.title(\"Гистограмма небольших по размеру кластеров\")\n",
    "plt.show()"
   ]
  },
  {
   "cell_type": "code",
   "execution_count": 15,
   "metadata": {},
   "outputs": [
    {
     "data": {
      "image/png": "[encoded data removed]",
      "text/plain": [
       "<Figure size 432x288 with 1 Axes>"
      ]
     },
     "metadata": {
      "needs_background": "light"
     },
     "output_type": "display_data"
    }
   ],
   "source": [
    "#Визуализация максимальных размеров кластеров\n",
    "plt.hist(cluster_size.values(), bins=10, range=(1000, 24000))\n",
    "plt.xlabel(\"Размер кластеров\")\n",
    "plt.ylabel(\"Количество кластеров\")\n",
    "plt.title(\"Гистограмма больших по размеру кластеров\")\n",
    "plt.show()"
   ]
  },
  {
   "cell_type": "code",
   "execution_count": 16,
   "metadata": {
    "scrolled": true
   },
   "outputs": [
    {
     "data": {
      "image/png": "[encoded data removed]",
      "text/plain": [
       "<Figure size 432x288 with 1 Axes>"
      ]
     },
     "metadata": {
      "needs_background": "light"
     },
     "output_type": "display_data"
    }
   ],
   "source": [
    "#Визуализация всех размеров кластеров\n",
    "plt.hist(cluster_size.values(), bins=100)\n",
    "plt.xlabel(\"Размер кластеров\")\n",
    "plt.ylabel(\"Количество кластеров\")\n",
    "plt.title(\"Гистограмма всех кластеров\")\n",
    "plt.show()"
   ]
  },
  {
   "cell_type": "code",
   "execution_count": 17,
   "metadata": {},
   "outputs": [
    {
     "data": {
      "image/png": "[encoded data removed]",
      "text/plain": [
       "<Figure size 432x288 with 1 Axes>"
      ]
     },
     "metadata": {
      "needs_background": "light"
     },
     "output_type": "display_data"
    }
   ],
   "source": [
    "#Визуализация наиболее распространенных размеров кластеров\n",
    "plt.hist(cluster_size.values(), bins=100, range=(0, 100))\n",
    "plt.xlabel(\"Размер кластеров\")\n",
    "plt.ylabel(\"Количество кластеров\")\n",
    "plt.title(\"Гистограмма наиболее популярных кластеров\")\n",
    "plt.show()"
   ]
  },
  {
   "cell_type": "code",
   "execution_count": 18,
   "metadata": {
    "scrolled": true
   },
   "outputs": [
    {
     "name": "stdout",
     "output_type": "stream",
     "text": [
      "6442892\n"
     ]
    },
    {
     "data": {
      "text/html": [
       "<div>\n",
       "<style scoped>\n",
       "    .dataframe tbody tr th:only-of-type {\n",
       "        vertical-align: middle;\n",
       "    }\n",
       "\n",
       "    .dataframe tbody tr th {\n",
       "        vertical-align: top;\n",
       "    }\n",
       "\n",
       "    .dataframe thead th {\n",
       "        text-align: right;\n",
       "    }\n",
       "</style>\n",
       "<table border=\"1\" class=\"dataframe\">\n",
       "  <thead>\n",
       "    <tr style=\"text-align: right;\">\n",
       "      <th></th>\n",
       "      <th>user_id</th>\n",
       "      <th>location_id</th>\n",
       "    </tr>\n",
       "  </thead>\n",
       "  <tbody>\n",
       "    <tr>\n",
       "      <th>0</th>\n",
       "      <td>0</td>\n",
       "      <td>22847</td>\n",
       "    </tr>\n",
       "    <tr>\n",
       "      <th>1</th>\n",
       "      <td>0</td>\n",
       "      <td>420315</td>\n",
       "    </tr>\n",
       "    <tr>\n",
       "      <th>2</th>\n",
       "      <td>0</td>\n",
       "      <td>316637</td>\n",
       "    </tr>\n",
       "    <tr>\n",
       "      <th>3</th>\n",
       "      <td>0</td>\n",
       "      <td>16516</td>\n",
       "    </tr>\n",
       "    <tr>\n",
       "      <th>4</th>\n",
       "      <td>0</td>\n",
       "      <td>5535878</td>\n",
       "    </tr>\n",
       "  </tbody>\n",
       "</table>\n",
       "</div>"
      ],
      "text/plain": [
       "   user_id  location_id\n",
       "0        0        22847\n",
       "1        0       420315\n",
       "2        0       316637\n",
       "3        0        16516\n",
       "4        0      5535878"
      ]
     },
     "execution_count": 18,
     "metadata": {},
     "output_type": "execute_result"
    }
   ],
   "source": [
    "#Обработка данных по чекинам\n",
    "import pandas as pd\n",
    "df_checkins = pd.read_csv(\"Gowalla_totalCheckins.txt\", sep=\"\t\", header=None)[[0, 4]]\n",
    "df_checkins.columns = [\"user_id\", \"location_id\"]\n",
    "\n",
    "print(len(df_checkins))\n",
    "df_checkins.head()"
   ]
  },
  {
   "cell_type": "code",
   "execution_count": 19,
   "metadata": {
    "scrolled": false
   },
   "outputs": [
    {
     "name": "stdout",
     "output_type": "stream",
     "text": [
      "196591\n"
     ]
    }
   ],
   "source": [
    "clusters_for_df=(list(my_exemplars.values()))\n",
    "print(len(clusters_for_df))"
   ]
  },
  {
   "cell_type": "code",
   "execution_count": 20,
   "metadata": {},
   "outputs": [
    {
     "name": "stdout",
     "output_type": "stream",
     "text": [
      "196591\n"
     ]
    },
    {
     "data": {
      "text/html": [
       "<div>\n",
       "<style scoped>\n",
       "    .dataframe tbody tr th:only-of-type {\n",
       "        vertical-align: middle;\n",
       "    }\n",
       "\n",
       "    .dataframe tbody tr th {\n",
       "        vertical-align: top;\n",
       "    }\n",
       "\n",
       "    .dataframe thead th {\n",
       "        text-align: right;\n",
       "    }\n",
       "</style>\n",
       "<table border=\"1\" class=\"dataframe\">\n",
       "  <thead>\n",
       "    <tr style=\"text-align: right;\">\n",
       "      <th></th>\n",
       "      <th>user_id</th>\n",
       "      <th>cluster_id</th>\n",
       "    </tr>\n",
       "  </thead>\n",
       "  <tbody>\n",
       "    <tr>\n",
       "      <th>0</th>\n",
       "      <td>0</td>\n",
       "      <td>0</td>\n",
       "    </tr>\n",
       "    <tr>\n",
       "      <th>1</th>\n",
       "      <td>1</td>\n",
       "      <td>1</td>\n",
       "    </tr>\n",
       "    <tr>\n",
       "      <th>2</th>\n",
       "      <td>2</td>\n",
       "      <td>2</td>\n",
       "    </tr>\n",
       "    <tr>\n",
       "      <th>3</th>\n",
       "      <td>3</td>\n",
       "      <td>3</td>\n",
       "    </tr>\n",
       "    <tr>\n",
       "      <th>4</th>\n",
       "      <td>4</td>\n",
       "      <td>4</td>\n",
       "    </tr>\n",
       "  </tbody>\n",
       "</table>\n",
       "</div>"
      ],
      "text/plain": [
       "   user_id  cluster_id\n",
       "0        0           0\n",
       "1        1           1\n",
       "2        2           2\n",
       "3        3           3\n",
       "4        4           4"
      ]
     },
     "execution_count": 20,
     "metadata": {},
     "output_type": "execute_result"
    }
   ],
   "source": [
    "df_clusters = pd.DataFrame(clusters_for_df)\n",
    "df_clusters = df_clusters.reset_index()\n",
    "df_clusters.columns = [\"user_id\", \"cluster_id\"]\n",
    "print(len(df_clusters))\n",
    "df_clusters.head()"
   ]
  },
  {
   "cell_type": "code",
   "execution_count": 21,
   "metadata": {},
   "outputs": [
    {
     "name": "stdout",
     "output_type": "stream",
     "text": [
      "6442892\n"
     ]
    },
    {
     "data": {
      "text/html": [
       "<div>\n",
       "<style scoped>\n",
       "    .dataframe tbody tr th:only-of-type {\n",
       "        vertical-align: middle;\n",
       "    }\n",
       "\n",
       "    .dataframe tbody tr th {\n",
       "        vertical-align: top;\n",
       "    }\n",
       "\n",
       "    .dataframe thead th {\n",
       "        text-align: right;\n",
       "    }\n",
       "</style>\n",
       "<table border=\"1\" class=\"dataframe\">\n",
       "  <thead>\n",
       "    <tr style=\"text-align: right;\">\n",
       "      <th></th>\n",
       "      <th>user_id</th>\n",
       "      <th>location_id</th>\n",
       "      <th>cluster_id</th>\n",
       "    </tr>\n",
       "  </thead>\n",
       "  <tbody>\n",
       "    <tr>\n",
       "      <th>0</th>\n",
       "      <td>0</td>\n",
       "      <td>22847</td>\n",
       "      <td>0</td>\n",
       "    </tr>\n",
       "    <tr>\n",
       "      <th>1</th>\n",
       "      <td>0</td>\n",
       "      <td>420315</td>\n",
       "      <td>0</td>\n",
       "    </tr>\n",
       "    <tr>\n",
       "      <th>2</th>\n",
       "      <td>0</td>\n",
       "      <td>316637</td>\n",
       "      <td>0</td>\n",
       "    </tr>\n",
       "    <tr>\n",
       "      <th>3</th>\n",
       "      <td>0</td>\n",
       "      <td>16516</td>\n",
       "      <td>0</td>\n",
       "    </tr>\n",
       "    <tr>\n",
       "      <th>4</th>\n",
       "      <td>0</td>\n",
       "      <td>5535878</td>\n",
       "      <td>0</td>\n",
       "    </tr>\n",
       "  </tbody>\n",
       "</table>\n",
       "</div>"
      ],
      "text/plain": [
       "   user_id  location_id  cluster_id\n",
       "0        0        22847           0\n",
       "1        0       420315           0\n",
       "2        0       316637           0\n",
       "3        0        16516           0\n",
       "4        0      5535878           0"
      ]
     },
     "execution_count": 21,
     "metadata": {},
     "output_type": "execute_result"
    }
   ],
   "source": [
    "df = pd.merge(df_checkins, df_clusters, on=['user_id'])\n",
    "print(len(df))\n",
    "df.head()"
   ]
  },
  {
   "cell_type": "code",
   "execution_count": 22,
   "metadata": {},
   "outputs": [
    {
     "name": "stdout",
     "output_type": "stream",
     "text": [
      "107092\n"
     ]
    }
   ],
   "source": [
    "#Определим количество пользователей, оставлявших чекины\n",
    "users_with_location = np.unique(df_checkins.user_id)\n",
    "print(len(users_with_location))"
   ]
  },
  {
   "cell_type": "code",
   "execution_count": 23,
   "metadata": {},
   "outputs": [
    {
     "name": "stdout",
     "output_type": "stream",
     "text": [
      "(96382,)\n",
      "(10710,)\n"
     ]
    }
   ],
   "source": [
    "#Разделим выборку пользователей на тестовую и тренировочную\n",
    "#И перемешаем данные\n",
    "#Тестовую выборку определим в 10% от всей\n",
    "from sklearn.model_selection import train_test_split\n",
    "train_users, test_users = train_test_split(users_with_location, test_size=0.1, shuffle=True)\n",
    "print(np.shape(train_users))\n",
    "print(np.shape(test_users))"
   ]
  },
  {
   "cell_type": "code",
   "execution_count": 24,
   "metadata": {},
   "outputs": [
    {
     "data": {
      "text/html": [
       "<div>\n",
       "<style scoped>\n",
       "    .dataframe tbody tr th:only-of-type {\n",
       "        vertical-align: middle;\n",
       "    }\n",
       "\n",
       "    .dataframe tbody tr th {\n",
       "        vertical-align: top;\n",
       "    }\n",
       "\n",
       "    .dataframe thead th {\n",
       "        text-align: right;\n",
       "    }\n",
       "</style>\n",
       "<table border=\"1\" class=\"dataframe\">\n",
       "  <thead>\n",
       "    <tr style=\"text-align: right;\">\n",
       "      <th></th>\n",
       "      <th>user_id</th>\n",
       "      <th>location_id</th>\n",
       "      <th>cluster_id</th>\n",
       "    </tr>\n",
       "  </thead>\n",
       "  <tbody>\n",
       "    <tr>\n",
       "      <th>2712</th>\n",
       "      <td>9</td>\n",
       "      <td>3010334</td>\n",
       "      <td>9</td>\n",
       "    </tr>\n",
       "    <tr>\n",
       "      <th>2713</th>\n",
       "      <td>9</td>\n",
       "      <td>39610</td>\n",
       "      <td>9</td>\n",
       "    </tr>\n",
       "    <tr>\n",
       "      <th>2714</th>\n",
       "      <td>9</td>\n",
       "      <td>123529</td>\n",
       "      <td>9</td>\n",
       "    </tr>\n",
       "    <tr>\n",
       "      <th>2715</th>\n",
       "      <td>9</td>\n",
       "      <td>114086</td>\n",
       "      <td>9</td>\n",
       "    </tr>\n",
       "    <tr>\n",
       "      <th>2716</th>\n",
       "      <td>9</td>\n",
       "      <td>347561</td>\n",
       "      <td>9</td>\n",
       "    </tr>\n",
       "  </tbody>\n",
       "</table>\n",
       "</div>"
      ],
      "text/plain": [
       "      user_id  location_id  cluster_id\n",
       "2712        9      3010334           9\n",
       "2713        9        39610           9\n",
       "2714        9       123529           9\n",
       "2715        9       114086           9\n",
       "2716        9       347561           9"
      ]
     },
     "execution_count": 24,
     "metadata": {},
     "output_type": "execute_result"
    }
   ],
   "source": [
    "train_checkins = df.loc[df.user_id.isin(train_users)]\n",
    "test_checkins = df.loc[df.user_id.isin(test_users)]\n",
    "test_checkins.head()"
   ]
  },
  {
   "cell_type": "code",
   "execution_count": 25,
   "metadata": {},
   "outputs": [
    {
     "name": "stdout",
     "output_type": "stream",
     "text": [
      "[55033, 19542, 9410, 10259, 58725, 9246, 10190, 23256, 9241, 14470]\n"
     ]
    }
   ],
   "source": [
    "#Возьмем гипотезу о том, что все пользователи находятся в 1 кластере\n",
    "#Будем мерить метрикой precision@10\n",
    "#На тренеровочной выборке определим ТОП 10 локаций с максимальным чекином\n",
    "#Отсортируем в порядке убывания количества чекинов\n",
    "top10_locations = list(train_checkins.groupby(by='location_id')['location_id'].count().sort_values(ascending = False).iloc[:10].index)\n",
    "print(top10_locations)"
   ]
  },
  {
   "cell_type": "code",
   "execution_count": 26,
   "metadata": {},
   "outputs": [
    {
     "data": {
      "text/html": [
       "<div>\n",
       "<style scoped>\n",
       "    .dataframe tbody tr th:only-of-type {\n",
       "        vertical-align: middle;\n",
       "    }\n",
       "\n",
       "    .dataframe tbody tr th {\n",
       "        vertical-align: top;\n",
       "    }\n",
       "\n",
       "    .dataframe thead th {\n",
       "        text-align: right;\n",
       "    }\n",
       "</style>\n",
       "<table border=\"1\" class=\"dataframe\">\n",
       "  <thead>\n",
       "    <tr style=\"text-align: right;\">\n",
       "      <th></th>\n",
       "      <th>cluster_id</th>\n",
       "      <th>location_id</th>\n",
       "      <th>rating</th>\n",
       "    </tr>\n",
       "  </thead>\n",
       "  <tbody>\n",
       "    <tr>\n",
       "      <th>3090268</th>\n",
       "      <td>196539</td>\n",
       "      <td>103606</td>\n",
       "      <td>11</td>\n",
       "    </tr>\n",
       "    <tr>\n",
       "      <th>3090274</th>\n",
       "      <td>196539</td>\n",
       "      <td>271694</td>\n",
       "      <td>5</td>\n",
       "    </tr>\n",
       "    <tr>\n",
       "      <th>3090269</th>\n",
       "      <td>196539</td>\n",
       "      <td>124683</td>\n",
       "      <td>1</td>\n",
       "    </tr>\n",
       "    <tr>\n",
       "      <th>3090270</th>\n",
       "      <td>196539</td>\n",
       "      <td>128331</td>\n",
       "      <td>1</td>\n",
       "    </tr>\n",
       "    <tr>\n",
       "      <th>3090271</th>\n",
       "      <td>196539</td>\n",
       "      <td>130147</td>\n",
       "      <td>1</td>\n",
       "    </tr>\n",
       "  </tbody>\n",
       "</table>\n",
       "</div>"
      ],
      "text/plain": [
       "         cluster_id  location_id  rating\n",
       "3090268      196539       103606      11\n",
       "3090274      196539       271694       5\n",
       "3090269      196539       124683       1\n",
       "3090270      196539       128331       1\n",
       "3090271      196539       130147       1"
      ]
     },
     "execution_count": 26,
     "metadata": {},
     "output_type": "execute_result"
    }
   ],
   "source": [
    "#для отслеживания топ значений локаций кластера\n",
    "#train_loc_ratings = количество раз, когда пользователь в этом кластере регистрируется в этой локации\n",
    "train_loc_ratings = train_checkins.groupby(by = [\"cluster_id\", \"location_id\"])[\"location_id\"].count()\n",
    "\n",
    "train_loc_ratings = train_loc_ratings.reset_index(name='rating').sort_values(by = [\"cluster_id\", \"rating\"], ascending = False)\n",
    "train_loc_ratings.head()"
   ]
  },
  {
   "cell_type": "code",
   "execution_count": 29,
   "metadata": {},
   "outputs": [
    {
     "name": "stdout",
     "output_type": "stream",
     "text": [
      "Self-similarity: -1.5\n",
      "Количество итераций: 10\n",
      "Количество кластеров: 17955\n",
      "Prectidion base:  0.017096171802054156\n",
      "Prectidion кластеров:  0.036591970121381885\n"
     ]
    }
   ],
   "source": [
    "# Рассчитаем precision@10 с применением кластеризации\n",
    "def get_tp(top_data, pred_data, k = 10):\n",
    "    try:\n",
    "        top_data = set(top_data[:k])\n",
    "    except:\n",
    "        top_data = set(top_data)\n",
    "    pred_data = set(pred_data)\n",
    "    return len(top_data.intersection(pred_data))\n",
    "\n",
    "amount_counter = 10*len(test_users)\n",
    "tp_base = 0\n",
    "tp_cluster = 0\n",
    "denom = len(test_users)*10\n",
    "\n",
    "for user in test_users:\n",
    "    cluster = clusters_for_df[user]\n",
    "    user_locations = test_checkins.loc[test_checkins.user_id == user, \"location_id\"].values\n",
    "    if (cluster in train_loc_ratings.cluster_id):\n",
    "        top_cluster = train_loc_ratings.loc[train_loc_ratings.cluster_id == cluster, \"location_id\"].values        \n",
    "        tp_cluster += get_tp(top_cluster, user_locations)\n",
    "\n",
    "    tp_base += get_tp(top10_locations, user_locations)\n",
    "\n",
    "base_precision=tp_base/denom\n",
    "cluster_precision=tp_cluster/denom\n",
    "print(\"Self-similarity: -1.5\")\n",
    "print(\"Количество итераций: 10\")\n",
    "print(\"Количество кластеров:\", len(clusters))\n",
    "print(\"Prectidion base: \", base_precision)\n",
    "print(\"Prectidion кластеров: \", cluster_precision)"
   ]
  },
  {
   "cell_type": "code",
   "execution_count": null,
   "metadata": {},
   "outputs": [],
   "source": []
  },
  {
   "cell_type": "code",
   "execution_count": null,
   "metadata": {},
   "outputs": [],
   "source": []
  },
  {
   "cell_type": "code",
   "execution_count": null,
   "metadata": {},
   "outputs": [],
   "source": []
  }
 ],
 "metadata": {
  "kernelspec": {
   "display_name": "Python 3",
   "language": "python",
   "name": "python3"
  },
  "language_info": {
   "codemirror_mode": {
    "name": "ipython",
    "version": 3
   },
   "file_extension": ".py",
   "mimetype": "text/x-python",
   "name": "python",
   "nbconvert_exporter": "python",
   "pygments_lexer": "ipython3",
   "version": "3.7.3"
  }
 },
 "nbformat": 4,
 "nbformat_minor": 4
}
